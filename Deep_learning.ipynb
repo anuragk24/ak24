{
  "nbformat": 4,
  "nbformat_minor": 0,
  "metadata": {
    "colab": {
      "name": "Deep learning.ipynb",
      "provenance": [],
      "collapsed_sections": [],
      "toc_visible": true,
      "authorship_tag": "ABX9TyPmu72qqpJWAglj3opNFtEw",
      "include_colab_link": true
    },
    "kernelspec": {
      "name": "python3",
      "display_name": "Python 3"
    },
    "widgets": {
      "application/vnd.jupyter.widget-state+json": {
        "1da94c9bace048b9acd3283cc3ed349f": {
          "model_module": "@jupyter-widgets/controls",
          "model_name": "HBoxModel",
          "state": {
            "_view_name": "HBoxView",
            "_dom_classes": [],
            "_model_name": "HBoxModel",
            "_view_module": "@jupyter-widgets/controls",
            "_model_module_version": "1.5.0",
            "_view_count": null,
            "_view_module_version": "1.5.0",
            "box_style": "",
            "layout": "IPY_MODEL_3e3b94010f6a4f0a80c198c8763f5e2b",
            "_model_module": "@jupyter-widgets/controls",
            "children": [
              "IPY_MODEL_94de3d9a236845ebbe4edf1347d8da05",
              "IPY_MODEL_b8cbb79507f64c53810eba64851d5bc4"
            ]
          }
        },
        "3e3b94010f6a4f0a80c198c8763f5e2b": {
          "model_module": "@jupyter-widgets/base",
          "model_name": "LayoutModel",
          "state": {
            "_view_name": "LayoutView",
            "grid_template_rows": null,
            "right": null,
            "justify_content": null,
            "_view_module": "@jupyter-widgets/base",
            "overflow": null,
            "_model_module_version": "1.2.0",
            "_view_count": null,
            "flex_flow": null,
            "width": null,
            "min_width": null,
            "border": null,
            "align_items": null,
            "bottom": null,
            "_model_module": "@jupyter-widgets/base",
            "top": null,
            "grid_column": null,
            "overflow_y": null,
            "overflow_x": null,
            "grid_auto_flow": null,
            "grid_area": null,
            "grid_template_columns": null,
            "flex": null,
            "_model_name": "LayoutModel",
            "justify_items": null,
            "grid_row": null,
            "max_height": null,
            "align_content": null,
            "visibility": null,
            "align_self": null,
            "height": null,
            "min_height": null,
            "padding": null,
            "grid_auto_rows": null,
            "grid_gap": null,
            "max_width": null,
            "order": null,
            "_view_module_version": "1.2.0",
            "grid_template_areas": null,
            "object_position": null,
            "object_fit": null,
            "grid_auto_columns": null,
            "margin": null,
            "display": null,
            "left": null
          }
        },
        "94de3d9a236845ebbe4edf1347d8da05": {
          "model_module": "@jupyter-widgets/controls",
          "model_name": "FloatProgressModel",
          "state": {
            "_view_name": "ProgressView",
            "style": "IPY_MODEL_bae66d5dd8774b83ad114d1ab9ad26bc",
            "_dom_classes": [],
            "description": "100%",
            "_model_name": "FloatProgressModel",
            "bar_style": "success",
            "max": 2000,
            "_view_module": "@jupyter-widgets/controls",
            "_model_module_version": "1.5.0",
            "value": 2000,
            "_view_count": null,
            "_view_module_version": "1.5.0",
            "orientation": "horizontal",
            "min": 0,
            "description_tooltip": null,
            "_model_module": "@jupyter-widgets/controls",
            "layout": "IPY_MODEL_340d0a870ce944939bdf2efd0f579259"
          }
        },
        "b8cbb79507f64c53810eba64851d5bc4": {
          "model_module": "@jupyter-widgets/controls",
          "model_name": "HTMLModel",
          "state": {
            "_view_name": "HTMLView",
            "style": "IPY_MODEL_6a0ad8951e614bd3922c1276b2861650",
            "_dom_classes": [],
            "description": "",
            "_model_name": "HTMLModel",
            "placeholder": "​",
            "_view_module": "@jupyter-widgets/controls",
            "_model_module_version": "1.5.0",
            "value": " 2000/2000 [00:25&lt;00:00, 77.84Epoch/s]",
            "_view_count": null,
            "_view_module_version": "1.5.0",
            "description_tooltip": null,
            "_model_module": "@jupyter-widgets/controls",
            "layout": "IPY_MODEL_1be2caa8f9e947858e273881efb0b45f"
          }
        },
        "bae66d5dd8774b83ad114d1ab9ad26bc": {
          "model_module": "@jupyter-widgets/controls",
          "model_name": "ProgressStyleModel",
          "state": {
            "_view_name": "StyleView",
            "_model_name": "ProgressStyleModel",
            "description_width": "initial",
            "_view_module": "@jupyter-widgets/base",
            "_model_module_version": "1.5.0",
            "_view_count": null,
            "_view_module_version": "1.2.0",
            "bar_color": null,
            "_model_module": "@jupyter-widgets/controls"
          }
        },
        "340d0a870ce944939bdf2efd0f579259": {
          "model_module": "@jupyter-widgets/base",
          "model_name": "LayoutModel",
          "state": {
            "_view_name": "LayoutView",
            "grid_template_rows": null,
            "right": null,
            "justify_content": null,
            "_view_module": "@jupyter-widgets/base",
            "overflow": null,
            "_model_module_version": "1.2.0",
            "_view_count": null,
            "flex_flow": null,
            "width": null,
            "min_width": null,
            "border": null,
            "align_items": null,
            "bottom": null,
            "_model_module": "@jupyter-widgets/base",
            "top": null,
            "grid_column": null,
            "overflow_y": null,
            "overflow_x": null,
            "grid_auto_flow": null,
            "grid_area": null,
            "grid_template_columns": null,
            "flex": null,
            "_model_name": "LayoutModel",
            "justify_items": null,
            "grid_row": null,
            "max_height": null,
            "align_content": null,
            "visibility": null,
            "align_self": null,
            "height": null,
            "min_height": null,
            "padding": null,
            "grid_auto_rows": null,
            "grid_gap": null,
            "max_width": null,
            "order": null,
            "_view_module_version": "1.2.0",
            "grid_template_areas": null,
            "object_position": null,
            "object_fit": null,
            "grid_auto_columns": null,
            "margin": null,
            "display": null,
            "left": null
          }
        },
        "6a0ad8951e614bd3922c1276b2861650": {
          "model_module": "@jupyter-widgets/controls",
          "model_name": "DescriptionStyleModel",
          "state": {
            "_view_name": "StyleView",
            "_model_name": "DescriptionStyleModel",
            "description_width": "",
            "_view_module": "@jupyter-widgets/base",
            "_model_module_version": "1.5.0",
            "_view_count": null,
            "_view_module_version": "1.2.0",
            "_model_module": "@jupyter-widgets/controls"
          }
        },
        "1be2caa8f9e947858e273881efb0b45f": {
          "model_module": "@jupyter-widgets/base",
          "model_name": "LayoutModel",
          "state": {
            "_view_name": "LayoutView",
            "grid_template_rows": null,
            "right": null,
            "justify_content": null,
            "_view_module": "@jupyter-widgets/base",
            "overflow": null,
            "_model_module_version": "1.2.0",
            "_view_count": null,
            "flex_flow": null,
            "width": null,
            "min_width": null,
            "border": null,
            "align_items": null,
            "bottom": null,
            "_model_module": "@jupyter-widgets/base",
            "top": null,
            "grid_column": null,
            "overflow_y": null,
            "overflow_x": null,
            "grid_auto_flow": null,
            "grid_area": null,
            "grid_template_columns": null,
            "flex": null,
            "_model_name": "LayoutModel",
            "justify_items": null,
            "grid_row": null,
            "max_height": null,
            "align_content": null,
            "visibility": null,
            "align_self": null,
            "height": null,
            "min_height": null,
            "padding": null,
            "grid_auto_rows": null,
            "grid_gap": null,
            "max_width": null,
            "order": null,
            "_view_module_version": "1.2.0",
            "grid_template_areas": null,
            "object_position": null,
            "object_fit": null,
            "grid_auto_columns": null,
            "margin": null,
            "display": null,
            "left": null
          }
        }
      }
    }
  },
  "cells": [
    {
      "cell_type": "markdown",
      "metadata": {
        "id": "view-in-github",
        "colab_type": "text"
      },
      "source": [
        "<a href=\"https://colab.research.google.com/github/anuragk24/ak24/blob/master/Deep_learning.ipynb\" target=\"_parent\"><img src=\"https://colab.research.google.com/assets/colab-badge.svg\" alt=\"Open In Colab\"/></a>"
      ]
    },
    {
      "cell_type": "markdown",
      "metadata": {
        "id": "GLiIlnazXGO7",
        "colab_type": "text"
      },
      "source": [
        "#Plotting SIgmoid\n"
      ]
    },
    {
      "cell_type": "code",
      "metadata": {
        "id": "_1METCV3XEjR",
        "colab_type": "code",
        "colab": {}
      },
      "source": [
        "import numpy as np \n",
        "import matplotlib.pyplot as plt\n",
        "from sklearn.metrics import accuracy_score, mean_squared_error\n",
        "from tqdm import tqdm_notebook"
      ],
      "execution_count": null,
      "outputs": []
    },
    {
      "cell_type": "markdown",
      "metadata": {
        "id": "XuozxYdRXXfu",
        "colab_type": "text"
      },
      "source": [
        "$S_{w,b}(x) = \\frac{1}{1 + e^{-(wx + b)}}$"
      ]
    },
    {
      "cell_type": "code",
      "metadata": {
        "id": "sKLmRwWpX0-Q",
        "colab_type": "code",
        "colab": {}
      },
      "source": [
        "def sigmoid(x, w, b):\n",
        "  return 1/(1 + np.exp(-(w*x+b)))"
      ],
      "execution_count": null,
      "outputs": []
    },
    {
      "cell_type": "code",
      "metadata": {
        "id": "HaJo-w8NYMzZ",
        "colab_type": "code",
        "colab": {
          "base_uri": "https://localhost:8080/",
          "height": 34
        },
        "outputId": "6015c7f5-23fe-4b46-8a44-2e9685717b4d"
      },
      "source": [
        "sigmoid(1, 0.5, 0)"
      ],
      "execution_count": null,
      "outputs": [
        {
          "output_type": "execute_result",
          "data": {
            "text/plain": [
              "0.6224593312018546"
            ]
          },
          "metadata": {
            "tags": []
          },
          "execution_count": 370
        }
      ]
    },
    {
      "cell_type": "code",
      "metadata": {
        "id": "IA-S--P_YQya",
        "colab_type": "code",
        "colab": {}
      },
      "source": [
        "w = -0.9\n",
        "b = 5.1\n",
        "X = np.linspace(-10, 10, 100)\n",
        "Y = sigmoid(X, w, b)"
      ],
      "execution_count": null,
      "outputs": []
    },
    {
      "cell_type": "code",
      "metadata": {
        "id": "IZejnBY6Yhl2",
        "colab_type": "code",
        "colab": {
          "base_uri": "https://localhost:8080/",
          "height": 265
        },
        "outputId": "e9d8c7b3-a950-4fad-b681-a29dff2448c0"
      },
      "source": [
        "plt.plot(X, Y)\n",
        "plt.show()"
      ],
      "execution_count": null,
      "outputs": [
        {
          "output_type": "display_data",
          "data": {
            "image/png": "[encoded data removed]",
            "text/plain": [
              "<Figure size 432x288 with 1 Axes>"
            ]
          },
          "metadata": {
            "tags": [],
            "needs_background": "light"
          }
        }
      ]
    },
    {
      "cell_type": "markdown",
      "metadata": {
        "id": "drnxjDMibjXW",
        "colab_type": "text"
      },
      "source": [
        "# class for sigmoid neuron"
      ]
    },
    {
      "cell_type": "code",
      "metadata": {
        "id": "J2D8ck9NYo-7",
        "colab_type": "code",
        "colab": {}
      },
      "source": [
        "class SigmoidNeuron():\n",
        "  def __init__(self):\n",
        "    self.w = None\n",
        "    self.b = None\n",
        "\n",
        "  def perceptron(self, x):\n",
        "    return np.dot(x, self.w.T)+self.b\n",
        "\n",
        "  def sigmoid(self, x):\n",
        "    return 1.0/(1.0 + np.exp(-x))\n",
        "\n",
        "  def grad_w(self,x, y):\n",
        "    y_pred = self.sigmoid(self.perceptron(x))\n",
        "    return (y_pred - y) * y_pred * (1 - y_pred) * x\n",
        "\n",
        "  def grad_b(self,x, y):\n",
        "    y_pred = self.sigmoid(self.perceptron(x))\n",
        "    return (y_pred - y) * y_pred * (1 - y_pred)\n",
        "  \n",
        "  def fit(self, X, Y, epochs=1, learning_rate=1, initialise=True, display_loss=False):\n",
        "    #initialise w,b\n",
        "    if initialise:\n",
        "      self.w = np.random.randn(1, X.shape[1])\n",
        "      self.b = 0\n",
        "\n",
        "    if display_loss:\n",
        "      loss = {}\n",
        "\n",
        "    for i in tqdm_notebook(range(epochs), total=epochs, unit='Epoch'):\n",
        "      dw=0\n",
        "      db=0\n",
        "\n",
        "      for x,y in zip(X,Y):\n",
        "        dw += self.grad_w(x,y)\n",
        "        db += self.grad_b(x,y)\n",
        "\n",
        "      self.w -= learning_rate*dw\n",
        "      self.b -= learning_rate*db\n",
        "\n",
        "      if display_loss:\n",
        "        Y_pred = self.sigmoid(self.perceptron(X))\n",
        "        loss[i] = mean_squared_error(Y_pred, Y)\n",
        "    \n",
        "    if display_loss:\n",
        "      plt.plot(list(loss.values()))\n",
        "      plt.xlabel('Epochs')\n",
        "      plt.grid()\n",
        "      plt.ylabel('Mean squared error')\n",
        "      plt.show()\n",
        "\n",
        "\n",
        "  def predict(self, X):\n",
        "    Y_pred = []\n",
        "    for x in X:\n",
        "      y_pred = self.sigmoid(self.perceptron(x))\n",
        "      Y_pred.append(y_pred)\n",
        "        \n",
        "    return np.array(Y_pred)\n",
        "    \n",
        "\n"
      ],
      "execution_count": null,
      "outputs": []
    },
    {
      "cell_type": "markdown",
      "metadata": {
        "id": "_OYaFWMx_HFt",
        "colab_type": "text"
      },
      "source": [
        "#load data and normalisisng\n"
      ]
    },
    {
      "cell_type": "code",
      "metadata": {
        "id": "r7lcoWKNdi8n",
        "colab_type": "code",
        "colab": {}
      },
      "source": [
        "import pandas as pd"
      ],
      "execution_count": null,
      "outputs": []
    },
    {
      "cell_type": "code",
      "metadata": {
        "id": "OBPkR37u_0bR",
        "colab_type": "code",
        "colab": {}
      },
      "source": [
        "data = pd.read_csv('mobile_cleaned.csv')"
      ],
      "execution_count": null,
      "outputs": []
    },
    {
      "cell_type": "code",
      "metadata": {
        "id": "WMb70ZIk_7o8",
        "colab_type": "code",
        "colab": {
          "base_uri": "https://localhost:8080/",
          "height": 34
        },
        "outputId": "aaa79e92-df7f-4c55-d6c9-48dc4bc2d348"
      },
      "source": [
        "data.head()\n",
        "data.shape"
      ],
      "execution_count": null,
      "outputs": [
        {
          "output_type": "execute_result",
          "data": {
            "text/plain": [
              "(341, 88)"
            ]
          },
          "metadata": {
            "tags": []
          },
          "execution_count": 376
        }
      ]
    },
    {
      "cell_type": "code",
      "metadata": {
        "id": "66vM21BW_9c0",
        "colab_type": "code",
        "colab": {}
      },
      "source": [
        "X = data.drop('Rating', axis=1)\n",
        "Y = data['Rating'].values"
      ],
      "execution_count": null,
      "outputs": []
    },
    {
      "cell_type": "code",
      "metadata": {
        "id": "ULXjJtvEAMfs",
        "colab_type": "code",
        "colab": {
          "base_uri": "https://localhost:8080/",
          "height": 68
        },
        "outputId": "f4e5c83c-33e7-4e22-d7a2-9798b5978855"
      },
      "source": [
        "threshold = 4.1\n",
        "data['Class'] = (data['Rating']>threshold).astype(np.int)\n",
        "data['Class'].value_counts(normalize=True)"
      ],
      "execution_count": null,
      "outputs": [
        {
          "output_type": "execute_result",
          "data": {
            "text/plain": [
              "0    0.533724\n",
              "1    0.466276\n",
              "Name: Class, dtype: float64"
            ]
          },
          "metadata": {
            "tags": []
          },
          "execution_count": 412
        }
      ]
    },
    {
      "cell_type": "code",
      "metadata": {
        "id": "tMyJqpS5AQXT",
        "colab_type": "code",
        "colab": {}
      },
      "source": [
        "Y_binarized = data['Class'].values"
      ],
      "execution_count": null,
      "outputs": []
    },
    {
      "cell_type": "markdown",
      "metadata": {
        "id": "QEgLusnRBlmA",
        "colab_type": "text"
      },
      "source": [
        "#Standardisation"
      ]
    },
    {
      "cell_type": "code",
      "metadata": {
        "id": "NWCWXCwyA9hD",
        "colab_type": "code",
        "colab": {}
      },
      "source": [
        "from sklearn.preprocessing import StandardScaler, MinMaxScaler\n",
        "from sklearn.model_selection import train_test_split"
      ],
      "execution_count": null,
      "outputs": []
    },
    {
      "cell_type": "code",
      "metadata": {
        "id": "yeOCC1NICC-k",
        "colab_type": "code",
        "colab": {}
      },
      "source": [
        "X_train, X_test, Y_train, Y_test = train_test_split(X, Y, random_state=1, stratify=Y_binarized)"
      ],
      "execution_count": null,
      "outputs": []
    },
    {
      "cell_type": "code",
      "metadata": {
        "id": "HfIUtu7CDrlT",
        "colab_type": "code",
        "colab": {
          "base_uri": "https://localhost:8080/",
          "height": 34
        },
        "outputId": "13aa2142-a8f1-4154-d41b-d0c6df7bb477"
      },
      "source": [
        "print(X_train.shape, X_test.shape)"
      ],
      "execution_count": null,
      "outputs": [
        {
          "output_type": "stream",
          "text": [
            "(255, 87) (86, 87)\n"
          ],
          "name": "stdout"
        }
      ]
    },
    {
      "cell_type": "code",
      "metadata": {
        "id": "EVOiWFyAD0_z",
        "colab_type": "code",
        "colab": {}
      },
      "source": [
        "scaler = StandardScaler()\n"
      ],
      "execution_count": null,
      "outputs": []
    },
    {
      "cell_type": "code",
      "metadata": {
        "id": "LeM89wglEOgj",
        "colab_type": "code",
        "colab": {}
      },
      "source": [
        "X_scaled_train = scaler.fit_transform(X_train)\n",
        "X_scaled_test = scaler.transform(X_test)"
      ],
      "execution_count": null,
      "outputs": []
    },
    {
      "cell_type": "code",
      "metadata": {
        "id": "NGxXrDr5Eemw",
        "colab_type": "code",
        "colab": {}
      },
      "source": [
        "minmax_scaler=MinMaxScaler()"
      ],
      "execution_count": null,
      "outputs": []
    },
    {
      "cell_type": "code",
      "metadata": {
        "id": "YSE4rmsUFJom",
        "colab_type": "code",
        "colab": {}
      },
      "source": [
        "Y_scaled_train = minmax_scaler.fit_transform(Y_train.reshape(-1, 1))\n",
        "Y_scaled_test = minmax_scaler.transform(Y_test.reshape(-1, 1))"
      ],
      "execution_count": null,
      "outputs": []
    },
    {
      "cell_type": "code",
      "metadata": {
        "id": "h_MUBOa9FgwX",
        "colab_type": "code",
        "colab": {}
      },
      "source": [
        "scaled_threshold = list(minmax_scaler.transform(np.array([threshold]).reshape(-1, 1)))[0][0]"
      ],
      "execution_count": null,
      "outputs": []
    },
    {
      "cell_type": "code",
      "metadata": {
        "id": "joIY_TYjGTGb",
        "colab_type": "code",
        "colab": {}
      },
      "source": [
        "Y_binarized_train = (Y_scaled_train > scaled_threshold).astype('int').ravel()\n",
        "Y_binarized_test = (Y_scaled_test > scaled_threshold).astype('int').ravel()"
      ],
      "execution_count": null,
      "outputs": []
    },
    {
      "cell_type": "code",
      "metadata": {
        "id": "bds5dOswGwCz",
        "colab_type": "code",
        "colab": {
          "base_uri": "https://localhost:8080/",
          "height": 265
        },
        "outputId": "3201f35f-5b44-4f27-cf58-87940bca1e30"
      },
      "source": [
        "plt.plot(Y_binarized_test,'*')\n",
        "plt.show()"
      ],
      "execution_count": null,
      "outputs": [
        {
          "output_type": "display_data",
          "data": {
            "image/png": "[encoded data removed]",
            "text/plain": [
              "<Figure size 432x288 with 1 Axes>"
            ]
          },
          "metadata": {
            "tags": [],
            "needs_background": "light"
          }
        }
      ]
    },
    {
      "cell_type": "code",
      "metadata": {
        "id": "qtR6ULA9HGA6",
        "colab_type": "code",
        "colab": {}
      },
      "source": [
        "sn = SigmoidNeuron()"
      ],
      "execution_count": null,
      "outputs": []
    },
    {
      "cell_type": "code",
      "metadata": {
        "id": "LSnCuraEHTH8",
        "colab_type": "code",
        "colab": {
          "base_uri": "https://localhost:8080/",
          "height": 383,
          "referenced_widgets": [
            "1da94c9bace048b9acd3283cc3ed349f",
            "3e3b94010f6a4f0a80c198c8763f5e2b",
            "94de3d9a236845ebbe4edf1347d8da05",
            "b8cbb79507f64c53810eba64851d5bc4",
            "bae66d5dd8774b83ad114d1ab9ad26bc",
            "340d0a870ce944939bdf2efd0f579259",
            "6a0ad8951e614bd3922c1276b2861650",
            "1be2caa8f9e947858e273881efb0b45f"
          ]
        },
        "outputId": "f65c9a24-c9e0-4929-9e9f-37ab0d1e6a0b"
      },
      "source": [
        "sn.fit(X_scaled_train, Y_scaled_train, epochs=2000, learning_rate=0.015, display_loss=True)"
      ],
      "execution_count": null,
      "outputs": [
        {
          "output_type": "stream",
          "text": [
            "/usr/local/lib/python3.6/dist-packages/ipykernel_launcher.py:29: TqdmDeprecationWarning: This function will be removed in tqdm==5.0.0\n",
            "Please use `tqdm.notebook.tqdm` instead of `tqdm.tqdm_notebook`\n"
          ],
          "name": "stderr"
        },
        {
          "output_type": "display_data",
          "data": {
            "application/vnd.jupyter.widget-view+json": {
              "model_id": "1da94c9bace048b9acd3283cc3ed349f",
              "version_minor": 0,
              "version_major": 2
            },
            "text/plain": [
              "HBox(children=(FloatProgress(value=0.0, max=2000.0), HTML(value='')))"
            ]
          },
          "metadata": {
            "tags": []
          }
        },
        {
          "output_type": "stream",
          "text": [
            "\n"
          ],
          "name": "stdout"
        },
        {
          "output_type": "display_data",
          "data": {
            "image/png": "[encoded data removed]",
            "text/plain": [
              "<Figure size 432x288 with 1 Axes>"
            ]
          },
          "metadata": {
            "tags": [],
            "needs_background": "light"
          }
        }
      ]
    },
    {
      "cell_type": "code",
      "metadata": {
        "id": "10p_pcjPHifV",
        "colab_type": "code",
        "colab": {}
      },
      "source": [
        "Y_pred_train = sn.predict(X_scaled_train)\n",
        "Y_pred_test = sn.predict(X_scaled_test)"
      ],
      "execution_count": null,
      "outputs": []
    },
    {
      "cell_type": "code",
      "metadata": {
        "id": "pv_hk6-pIYfO",
        "colab_type": "code",
        "colab": {}
      },
      "source": [
        "Y_pred_binarized_train = (Y_pred_train > scaled_threshold).astype('int').ravel()\n",
        "Y_pred_binarized_test = (Y_pred_test > scaled_threshold).astype('int').ravel()"
      ],
      "execution_count": null,
      "outputs": []
    },
    {
      "cell_type": "code",
      "metadata": {
        "id": "Ry9-6qGgKHCE",
        "colab_type": "code",
        "colab": {
          "base_uri": "https://localhost:8080/",
          "height": 34
        },
        "outputId": "c6891f65-6ec2-4aae-a441-ad9824431d56"
      },
      "source": [
        "accuracy_train = accuracy_score(Y_pred_binarized_train, Y_binarized_train)\n",
        "accuracy_test = accuracy_score(Y_pred_binarized_test, Y_binarized_test)\n",
        "print(accuracy_train, accuracy_test)"
      ],
      "execution_count": null,
      "outputs": [
        {
          "output_type": "stream",
          "text": [
            "0.8196078431372549 0.7906976744186046\n"
          ],
          "name": "stdout"
        }
      ]
    }
  ]
}